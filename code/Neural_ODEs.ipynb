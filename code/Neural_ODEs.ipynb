{
 "cells": [
  {
   "cell_type": "markdown",
   "metadata": {},
   "source": [
    "# Neural ODEs\n",
    "Red Neuronal para simulacion de EDOs de primer ordel del tipo\n",
    "$$\\dfrac{d}{dt}S(t)=P_1(t) + P_2(t)*P_3(S)$$\n",
    "donde $P_1$, $P_2$ y $P_3$ son polinomios."
   ]
  },
  {
   "cell_type": "code",
   "execution_count": 1,
   "metadata": {},
   "outputs": [],
   "source": [
    "# Recarga los modulos\n",
    "%load_ext autoreload\n",
    "%autoreload 2"
   ]
  },
  {
   "cell_type": "code",
   "execution_count": 2,
   "metadata": {},
   "outputs": [],
   "source": [
    "import os"
   ]
  },
  {
   "cell_type": "code",
   "execution_count": 16,
   "metadata": {},
   "outputs": [],
   "source": [
    "import warnings\n",
    "warnings.filterwarnings('ignore')"
   ]
  },
  {
   "cell_type": "code",
   "execution_count": 25,
   "metadata": {},
   "outputs": [],
   "source": [
    "import random"
   ]
  },
  {
   "cell_type": "code",
   "execution_count": 3,
   "metadata": {},
   "outputs": [
    {
     "name": "stdout",
     "output_type": "stream",
     "text": [
      "Lucifer                                2022-11-26 13:30:29  526.98\n",
      "[0] NVIDIA GeForce RTX 3080 Laptop GPU | 49°C,   0 % |   161 /  8192 MB |\n"
     ]
    }
   ],
   "source": [
    "import gpustat\n",
    "gpustat.print_gpustat()"
   ]
  },
  {
   "cell_type": "code",
   "execution_count": 4,
   "metadata": {},
   "outputs": [],
   "source": [
    "import numpy as mp\n",
    "import pandas as pd"
   ]
  },
  {
   "cell_type": "code",
   "execution_count": 5,
   "metadata": {},
   "outputs": [],
   "source": [
    "import matplotlib.pyplot as plt\n",
    "%matplotlib inline"
   ]
  },
  {
   "cell_type": "code",
   "execution_count": 6,
   "metadata": {},
   "outputs": [],
   "source": [
    "import torch\n",
    "import torch.nn as nn\n",
    "import torch.nn.functional as F\n",
    "from torch.utils import data as data_torch"
   ]
  },
  {
   "cell_type": "code",
   "execution_count": 7,
   "metadata": {},
   "outputs": [],
   "source": [
    "from tqdm import tnrange, tqdm_notebook"
   ]
  },
  {
   "cell_type": "code",
   "execution_count": 8,
   "metadata": {},
   "outputs": [],
   "source": [
    "from api.utils import *"
   ]
  },
  {
   "cell_type": "markdown",
   "metadata": {},
   "source": [
    "## Tratamiento de datos"
   ]
  },
  {
   "cell_type": "code",
   "execution_count": 9,
   "metadata": {},
   "outputs": [
    {
     "name": "stdout",
     "output_type": "stream",
     "text": [
      "El tamano de los datos de polinomio en S y t es: 333274\n",
      "El tamano de los datos de polinomio en S es    : 333811\n",
      "El tamano de los datos de polinomio en t es    : 332915\n",
      "El numero total de los datos es                : 1000000\n"
     ]
    },
    {
     "data": {
      "text/html": [
       "<div>\n",
       "<style scoped>\n",
       "    .dataframe tbody tr th:only-of-type {\n",
       "        vertical-align: middle;\n",
       "    }\n",
       "\n",
       "    .dataframe tbody tr th {\n",
       "        vertical-align: top;\n",
       "    }\n",
       "\n",
       "    .dataframe thead th {\n",
       "        text-align: right;\n",
       "    }\n",
       "</style>\n",
       "<table border=\"1\" class=\"dataframe\">\n",
       "  <thead>\n",
       "    <tr style=\"text-align: right;\">\n",
       "      <th></th>\n",
       "      <th>funcion</th>\n",
       "      <th>grade_f_t</th>\n",
       "      <th>grade_f_s</th>\n",
       "      <th>I_c</th>\n",
       "      <th>n_steps</th>\n",
       "      <th>int_0</th>\n",
       "      <th>int_f</th>\n",
       "      <th>sol.t</th>\n",
       "      <th>sol.y</th>\n",
       "    </tr>\n",
       "  </thead>\n",
       "  <tbody>\n",
       "    <tr>\n",
       "      <th>0</th>\n",
       "      <td>polinom_t</td>\n",
       "      <td>6</td>\n",
       "      <td>0</td>\n",
       "      <td>0.704150</td>\n",
       "      <td>100</td>\n",
       "      <td>0</td>\n",
       "      <td>1</td>\n",
       "      <td>[0.0, 0.01, 0.02, 0.03, 0.04, 0.05, 0.06, 0.07...</td>\n",
       "      <td>[0.7041497439187168, 0.7044874522964137, 0.705...</td>\n",
       "    </tr>\n",
       "    <tr>\n",
       "      <th>1</th>\n",
       "      <td>polinom_t</td>\n",
       "      <td>7</td>\n",
       "      <td>0</td>\n",
       "      <td>-0.616239</td>\n",
       "      <td>100</td>\n",
       "      <td>0</td>\n",
       "      <td>1</td>\n",
       "      <td>[0.0, 0.01, 0.02, 0.03, 0.04, 0.05, 0.06, 0.07...</td>\n",
       "      <td>[-0.6162386742618866, -0.6163800903218846, -0....</td>\n",
       "    </tr>\n",
       "    <tr>\n",
       "      <th>2</th>\n",
       "      <td>polinom_s</td>\n",
       "      <td>0</td>\n",
       "      <td>7</td>\n",
       "      <td>0.098112</td>\n",
       "      <td>100</td>\n",
       "      <td>0</td>\n",
       "      <td>1</td>\n",
       "      <td>[0.0, 0.01, 0.02, 0.03, 0.04, 0.05, 0.06, 0.07...</td>\n",
       "      <td>[0.09811174156903335, 0.09853803527908014, 0.0...</td>\n",
       "    </tr>\n",
       "    <tr>\n",
       "      <th>3</th>\n",
       "      <td>polinom_st</td>\n",
       "      <td>4</td>\n",
       "      <td>2</td>\n",
       "      <td>0.258020</td>\n",
       "      <td>100</td>\n",
       "      <td>0</td>\n",
       "      <td>1</td>\n",
       "      <td>[0.0, 0.01, 0.02, 0.03, 0.04, 0.05, 0.06, 0.07...</td>\n",
       "      <td>[0.2580197483455098, 0.25801897523637685, 0.25...</td>\n",
       "    </tr>\n",
       "    <tr>\n",
       "      <th>4</th>\n",
       "      <td>polinom_st</td>\n",
       "      <td>9</td>\n",
       "      <td>10</td>\n",
       "      <td>-0.660801</td>\n",
       "      <td>100</td>\n",
       "      <td>0</td>\n",
       "      <td>1</td>\n",
       "      <td>[0.0, 0.01, 0.02, 0.03, 0.04, 0.05, 0.06, 0.07...</td>\n",
       "      <td>[-0.6608008149233784, -0.6607992730118504, -0....</td>\n",
       "    </tr>\n",
       "  </tbody>\n",
       "</table>\n",
       "</div>"
      ],
      "text/plain": [
       "      funcion  grade_f_t  grade_f_s       I_c  n_steps  int_0  int_f  \\\n",
       "0   polinom_t          6          0  0.704150      100      0      1   \n",
       "1   polinom_t          7          0 -0.616239      100      0      1   \n",
       "2   polinom_s          0          7  0.098112      100      0      1   \n",
       "3  polinom_st          4          2  0.258020      100      0      1   \n",
       "4  polinom_st          9         10 -0.660801      100      0      1   \n",
       "\n",
       "                                               sol.t  \\\n",
       "0  [0.0, 0.01, 0.02, 0.03, 0.04, 0.05, 0.06, 0.07...   \n",
       "1  [0.0, 0.01, 0.02, 0.03, 0.04, 0.05, 0.06, 0.07...   \n",
       "2  [0.0, 0.01, 0.02, 0.03, 0.04, 0.05, 0.06, 0.07...   \n",
       "3  [0.0, 0.01, 0.02, 0.03, 0.04, 0.05, 0.06, 0.07...   \n",
       "4  [0.0, 0.01, 0.02, 0.03, 0.04, 0.05, 0.06, 0.07...   \n",
       "\n",
       "                                               sol.y  \n",
       "0  [0.7041497439187168, 0.7044874522964137, 0.705...  \n",
       "1  [-0.6162386742618866, -0.6163800903218846, -0....  \n",
       "2  [0.09811174156903335, 0.09853803527908014, 0.0...  \n",
       "3  [0.2580197483455098, 0.25801897523637685, 0.25...  \n",
       "4  [-0.6608008149233784, -0.6607992730118504, -0....  "
      ]
     },
     "execution_count": 9,
     "metadata": {},
     "output_type": "execute_result"
    }
   ],
   "source": [
    "# Obtenemos datos de las simulaciones\n",
    "file_name = 'datos_ODEs_100.csv'\n",
    "dir_file = 'C:/Users/Det-Pc/OneDrive/Documentos/GitHub/Proyecto_curso_DL/data'\n",
    "data = get_ode_data(dir_file + '/' + file_name)\n",
    "# data.head()"
   ]
  },
  {
   "cell_type": "code",
   "execution_count": 10,
   "metadata": {},
   "outputs": [],
   "source": [
    "# Extraemos los valores de las simulaciones\n",
    "df_values = data['sol.y'].values"
   ]
  },
  {
   "cell_type": "markdown",
   "metadata": {},
   "source": [
    "### DataSets"
   ]
  },
  {
   "cell_type": "code",
   "execution_count": 22,
   "metadata": {},
   "outputs": [],
   "source": [
    "seq_len = 75\n",
    "size_predic = len(data['sol.y'].values[0])\n",
    "len_sim = df_values.shape[0]"
   ]
  },
  {
   "cell_type": "code",
   "execution_count": 18,
   "metadata": {},
   "outputs": [],
   "source": [
    "# Creamos las sucesiones con los datos estandarizados\n",
    "X_data, Y_data = get_seqs(data=df_values, seq_len=seq_len)"
   ]
  },
  {
   "cell_type": "code",
   "execution_count": 19,
   "metadata": {},
   "outputs": [
    {
     "name": "stdout",
     "output_type": "stream",
     "text": [
      "EL tamano de los datos las sucesiones_X es: (999925, 75)\n",
      "EL tamano de los datos las sucesiones_Y es: (999925, 25)\n"
     ]
    }
   ],
   "source": [
    "print(f'EL tamano de los datos las sucesiones_X es: {X_data.shape}')\n",
    "print(f'EL tamano de los datos las sucesiones_Y es: {Y_data.shape}')"
   ]
  },
  {
   "cell_type": "code",
   "execution_count": 26,
   "metadata": {},
   "outputs": [],
   "source": [
    "# porcentaje de datos de entrenamiento\n",
    "pct_data_train = 0.8"
   ]
  },
  {
   "cell_type": "code",
   "execution_count": 27,
   "metadata": {},
   "outputs": [],
   "source": [
    "index_data = list(range(X_data.shape[0]))\n",
    "\n",
    "train_index = random.sample(index_data, int(len(index_data)*pct_data_train))\n",
    "val_test_index = list(set(index_data)-set(train_index))\n",
    "val_index = random.sample(val_test_index, int(len(val_test_index)*0.5))\n",
    "test_index = list(set(val_test_index)-set(val_index))"
   ]
  },
  {
   "cell_type": "code",
   "execution_count": 28,
   "metadata": {},
   "outputs": [],
   "source": [
    "# Creamos las particiones\n",
    "data_dic = {'train':X_data[train_index],\\\n",
    "           'val':X_data[val_index],\\\n",
    "           'test':X_data[test_index]}"
   ]
  },
  {
   "cell_type": "code",
   "execution_count": 41,
   "metadata": {},
   "outputs": [],
   "source": [
    "class EDOs_dataloader(data_torch.Dataset):\n",
    "    def __init__(self, edos_s):\n",
    "\n",
    "        self.edos_s = edos_s\n",
    "        \n",
    "        \n",
    "    def __getitem__(self, index):\n",
    "        edo_i = self.edos_s[index]\n",
    "        return edo_i\n",
    "        \n",
    "\n",
    "    def __len__(self):\n",
    "        return len(self.edos_s)"
   ]
  },
  {
   "cell_type": "code",
   "execution_count": 42,
   "metadata": {},
   "outputs": [
    {
     "name": "stdout",
     "output_type": "stream",
     "text": [
      "Se cargo la data exitosamente!\n",
      "El tamano de la dataset es {'train': 799940, 'val': 99992, 'test': 99993}\n"
     ]
    }
   ],
   "source": [
    "partitions = ['train', 'val', 'test']\n",
    "batch_size = 512\n",
    "shuffle = True\n",
    "lr = 0.001\n",
    "edos_datasets = {x: EDOs_dataloader(data_dic[x]) for x in partitions}\n",
    "dataloaders = {x: torch.utils.data.DataLoader(edos_datasets[x], batch_size=batch_size,\\\n",
    "                                              shuffle=shuffle) for x in partitions}\n",
    "dataset_sizes = {x: len(edos_datasets[x]) for x in partitions}\n",
    "print('Se cargo la data exitosamente!')\n",
    "print(f'El tamano de la dataset es {dataset_sizes}')"
   ]
  },
  {
   "cell_type": "markdown",
   "metadata": {},
   "source": [
    "## Modelo"
   ]
  },
  {
   "cell_type": "code",
   "execution_count": null,
   "metadata": {},
   "outputs": [
    {
     "name": "stdout",
     "output_type": "stream",
     "text": [
      "Estamos usando: cuda\n"
     ]
    }
   ],
   "source": [
    "device = torch.device(\"cuda\" if torch.cuda.is_available() else \"cpu\")\n",
    "print('Estamos usando: {}'.format(device))"
   ]
  },
  {
   "cell_type": "code",
   "execution_count": null,
   "metadata": {},
   "outputs": [],
   "source": [
    "class ODE_NET(nn.Module):\n",
    "    def __init__(self):\n",
    "        super(ODE_NET, self).__init__()\n",
    "        self.conv1 = nn.Conv1d(in_channels=1,out_channels=32,kernel_size=6,stride=2,padding=3)\n",
    "        self.relu = nn.ReLU()\n",
    "        self.pool = nn.MaxPool1d(2, 2)\n",
    "        self.conv2 = nn.Conv1d(6, 16, 5)\n",
    "        self.fc1 = nn.Linear(16 * 5 * 5, 120)\n",
    "        self.fc2 = nn.Linear(120, 84)\n",
    "        self.fc3 = nn.Linear(84, 10)\n",
    "        self.rnn1 = nn.LSTM()\n",
    "\n",
    "    def forward(self, x):\n",
    "        print(x.shape)\n",
    "        x = self.pool(F.relu(self.conv1(x)))\n",
    "        x = self.pool(F.relu(self.conv2(x)))\n",
    "        x = torch.flatten(x, 1) # flatten all dimensions except batch\n",
    "        x = F.relu(self.fc1(x))\n",
    "        x = F.relu(self.fc2(x))\n",
    "        x = self.fc3(x)\n",
    "        return x\n",
    "\n"
   ]
  },
  {
   "cell_type": "code",
   "execution_count": null,
   "metadata": {},
   "outputs": [],
   "source": [
    "class AutoEncoder_TS(nn.Module):\n",
    "    def __init__(self):\n",
    "        super(AutoEncoder_TS, self).__init__()\n",
    "        \n",
    "        self.conv1 = nn.Conv1d(in_channels=1,out_channels=32,kernel_size=6,stride=2,padding=3)\n",
    "        self.relu = nn.ReLU()\n",
    "        self.dropout = nn.Dropout(p=0.2)\n",
    "        self.conv2 = nn.Conv1d(in_channels=32,out_channels=16,kernel_size=6,stride=2,padding=3)\n",
    "        self.convTrans = nn.ConvTranspose1d(in_channels=16, out_channels=16,kernel_size=6,stride=2,padding=3)\n",
    "        self.convTrans2 = nn.ConvTranspose1d(in_channels=16, out_channels=32,kernel_size=6,stride=2,padding=2)\n",
    "        self.convTrans3 = nn.ConvTranspose1d(in_channels=32, out_channels=1,kernel_size=5,stride=1, padding=2)\n",
    "    def forward(self, x):\n",
    "        \n",
    "        x = self.dropout(self.relu(self.conv1(x)))\n",
    "        x = self.relu(self.conv2(x))\n",
    "        x = self.dropout(self.relu(self.convTrans(x)))\n",
    "        x = self.relu(self.convTrans2(x))\n",
    "        x = self.convTrans3(x)\n",
    "        return x"
   ]
  },
  {
   "cell_type": "code",
   "execution_count": null,
   "metadata": {},
   "outputs": [],
   "source": []
  }
 ],
 "metadata": {
  "kernelspec": {
   "display_name": "Python 3.10.6 ('pytorch-C-DL')",
   "language": "python",
   "name": "python3"
  },
  "language_info": {
   "codemirror_mode": {
    "name": "ipython",
    "version": 3
   },
   "file_extension": ".py",
   "mimetype": "text/x-python",
   "name": "python",
   "nbconvert_exporter": "python",
   "pygments_lexer": "ipython3",
   "version": "3.10.6"
  },
  "orig_nbformat": 4,
  "vscode": {
   "interpreter": {
    "hash": "85b52fbe45fd3d3f6426508f2b1ceb63e7294645d1a7097c9a6e2bd314b42ccf"
   }
  }
 },
 "nbformat": 4,
 "nbformat_minor": 2
}
